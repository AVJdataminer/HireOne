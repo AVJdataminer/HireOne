{
  "nbformat": 4,
  "nbformat_minor": 0,
  "metadata": {
    "colab": {
      "name": "Flask App on Google Colab",
      "provenance": [],
      "collapsed_sections": [],
      "toc_visible": true,
      "authorship_tag": "ABX9TyOPRp290ouhq9Oosptn/F73",
      "include_colab_link": true
    },
    "kernelspec": {
      "name": "python3",
      "display_name": "Python 3"
    }
  },
  "cells": [
    {
      "cell_type": "markdown",
      "metadata": {
        "id": "view-in-github",
        "colab_type": "text"
      },
      "source": [
        "<a href=\"https://colab.research.google.com/github/AVJdataminer/HireOne/blob/master/Flask_App_on_Google_Colab.ipynb\" target=\"_parent\"><img src=\"https://colab.research.google.com/assets/colab-badge.svg\" alt=\"Open In Colab\"/></a>"
      ]
    },
    {
      "cell_type": "markdown",
      "metadata": {
        "id": "CFZGyxJtBKvm"
      },
      "source": [
        "Create Flask app for NLP project"
      ]
    },
    {
      "cell_type": "markdown",
      "metadata": {
        "id": "yRccDnr4OGFN"
      },
      "source": [
        "Steps in this NLP project notebook\n",
        "\n",
        "1.   Create model using Gensim doc2vec to get job desc vectors\n",
        "2.   Save serialized model as pickle\n",
        "3.   Build flask app - in Google Colab\n",
        "4.   Connect to Heroku\n",
        "\n"
      ]
    },
    {
      "cell_type": "markdown",
      "metadata": {
        "id": "ZGmoEwSFOlED"
      },
      "source": [
        "# Build the model"
      ]
    },
    {
      "cell_type": "code",
      "metadata": {
        "id": "VqYFf-x3w8NB"
      },
      "source": [
        "# Imports\n",
        "import re\n",
        "import string\n",
        "from collections import Counter\n",
        "\n",
        "import pandas as pd\n",
        "import numpy as np\n",
        "from gensim.summarization import keywords\n",
        "import matplotlib.pyplot as plt\n",
        "import numpy as np\n",
        "import sklearn\n",
        "import pickle\n",
        "import json"
      ],
      "execution_count": null,
      "outputs": []
    },
    {
      "cell_type": "code",
      "metadata": {
        "id": "e1EEoaPn5Mr-",
        "outputId": "37329c93-5f76-4949-dfc1-f993776fda5a",
        "colab": {
          "base_uri": "https://localhost:8080/",
          "height": 258
        }
      },
      "source": [
        "#install pdf reader module\n",
        "! pip install pdfminer.six"
      ],
      "execution_count": null,
      "outputs": [
        {
          "output_type": "stream",
          "text": [
            "Collecting pdfminer.six\n",
            "\u001b[?25l  Downloading https://files.pythonhosted.org/packages/98/12/ab5ebafc4cb2b49847de7bfc26f2d152f42a4af136263152d070c61dfd7d/pdfminer.six-20200726-py3-none-any.whl (5.6MB)\n",
            "\u001b[K     |████████████████████████████████| 5.6MB 2.9MB/s \n",
            "\u001b[?25hCollecting cryptography\n",
            "\u001b[?25l  Downloading https://files.pythonhosted.org/packages/33/62/30f6936941d87a5ed72efb24249437824f6b2c953901245b58c91fde2f27/cryptography-3.1.1-cp35-abi3-manylinux2010_x86_64.whl (2.6MB)\n",
            "\u001b[K     |████████████████████████████████| 2.6MB 32.0MB/s \n",
            "\u001b[?25hRequirement already satisfied: sortedcontainers in /usr/local/lib/python3.6/dist-packages (from pdfminer.six) (2.2.2)\n",
            "Requirement already satisfied: chardet; python_version > \"3.0\" in /usr/local/lib/python3.6/dist-packages (from pdfminer.six) (3.0.4)\n",
            "Requirement already satisfied: cffi!=1.11.3,>=1.8 in /usr/local/lib/python3.6/dist-packages (from cryptography->pdfminer.six) (1.14.3)\n",
            "Requirement already satisfied: six>=1.4.1 in /usr/local/lib/python3.6/dist-packages (from cryptography->pdfminer.six) (1.15.0)\n",
            "Requirement already satisfied: pycparser in /usr/local/lib/python3.6/dist-packages (from cffi!=1.11.3,>=1.8->cryptography->pdfminer.six) (2.20)\n",
            "Installing collected packages: cryptography, pdfminer.six\n",
            "Successfully installed cryptography-3.1.1 pdfminer.six-20200726\n"
          ],
          "name": "stdout"
        }
      ]
    },
    {
      "cell_type": "markdown",
      "metadata": {
        "id": "VZ0Zq7RWO0Jp"
      },
      "source": [
        "## load job description data"
      ]
    },
    {
      "cell_type": "code",
      "metadata": {
        "id": "zxf5mc9Jw8OA",
        "outputId": "d2b5f906-c076-47a7-d1e0-dd534da19246",
        "colab": {
          "base_uri": "https://localhost:8080/",
          "height": 204
        }
      },
      "source": [
        "df = pd.read_csv('https://raw.githubusercontent.com/AVJdataminer/HireOne/master/data/job_descriptions.csv', encoding = 'unicode_escape')\n",
        "df.head()"
      ],
      "execution_count": null,
      "outputs": [
        {
          "output_type": "execute_result",
          "data": {
            "text/html": [
              "<div>\n",
              "<style scoped>\n",
              "    .dataframe tbody tr th:only-of-type {\n",
              "        vertical-align: middle;\n",
              "    }\n",
              "\n",
              "    .dataframe tbody tr th {\n",
              "        vertical-align: top;\n",
              "    }\n",
              "\n",
              "    .dataframe thead th {\n",
              "        text-align: right;\n",
              "    }\n",
              "</style>\n",
              "<table border=\"1\" class=\"dataframe\">\n",
              "  <thead>\n",
              "    <tr style=\"text-align: right;\">\n",
              "      <th></th>\n",
              "      <th>jobOrResumeDescription</th>\n",
              "      <th>role</th>\n",
              "    </tr>\n",
              "  </thead>\n",
              "  <tbody>\n",
              "    <tr>\n",
              "      <th>0</th>\n",
              "      <td>: Artificial Intelligence / Machine Learning D...</td>\n",
              "      <td>Developer</td>\n",
              "    </tr>\n",
              "    <tr>\n",
              "      <th>1</th>\n",
              "      <td>: Data Scientist/Architect\\n: 6+ months + Hig...</td>\n",
              "      <td>Data Scientist</td>\n",
              "    </tr>\n",
              "    <tr>\n",
              "      <th>2</th>\n",
              "      <td>: Data Analyst\\n: Davidson, NC\\n: 04+ Months\\...</td>\n",
              "      <td>Data Analyst</td>\n",
              "    </tr>\n",
              "    <tr>\n",
              "      <th>3</th>\n",
              "      <td>: Big Data Architect or Data Scientist\\n: New...</td>\n",
              "      <td>Data Scientist</td>\n",
              "    </tr>\n",
              "    <tr>\n",
              "      <th>4</th>\n",
              "      <td>: Data Engineer\\n: Woonsocket, RI\\n: 6+ Months...</td>\n",
              "      <td>Data Engineer</td>\n",
              "    </tr>\n",
              "  </tbody>\n",
              "</table>\n",
              "</div>"
            ],
            "text/plain": [
              "                              jobOrResumeDescription            role\n",
              "0  : Artificial Intelligence / Machine Learning D...       Developer\n",
              "1   : Data Scientist/Architect\\n: 6+ months + Hig...  Data Scientist\n",
              "2   : Data Analyst\\n: Davidson, NC\\n: 04+ Months\\...    Data Analyst\n",
              "3   : Big Data Architect or Data Scientist\\n: New...  Data Scientist\n",
              "4  : Data Engineer\\n: Woonsocket, RI\\n: 6+ Months...   Data Engineer"
            ]
          },
          "metadata": {
            "tags": []
          },
          "execution_count": 3
        }
      ]
    },
    {
      "cell_type": "markdown",
      "metadata": {
        "id": "XzYIKHX8HMXC"
      },
      "source": [
        "Clean up job description column."
      ]
    },
    {
      "cell_type": "code",
      "metadata": {
        "id": "1UK0cxBZw8NJ"
      },
      "source": [
        "def clean_text(text):\n",
        "    text = text.replace('\\n', ' ')                # remove newline\n",
        "    text = text.replace(':', ' ')\n",
        "    return text\n",
        "df['description'] = df.apply(lambda x: clean_text(x['jobOrResumeDescription']), axis=1)"
      ],
      "execution_count": null,
      "outputs": []
    },
    {
      "cell_type": "markdown",
      "metadata": {
        "id": "H3zxu0UuHqG4"
      },
      "source": [
        "Print first job desc"
      ]
    },
    {
      "cell_type": "code",
      "metadata": {
        "id": "d6NG3nbDKvOE",
        "outputId": "7f7d9a09-3e6a-479c-836d-d2021d7f3587",
        "colab": {
          "base_uri": "https://localhost:8080/",
          "height": 120
        }
      },
      "source": [
        "df['description'].iloc[0]"
      ],
      "execution_count": null,
      "outputs": [
        {
          "output_type": "execute_result",
          "data": {
            "application/vnd.google.colaboratory.intrinsic+json": {
              "type": "string"
            },
            "text/plain": [
              "\"  Artificial Intelligence / Machine Learning Developer     Irving TX  Terms  Contract   Details             Bachelor's degree or 7-10 or more years of relevant  experience.     7+ years of server app development (design/develop/deploy).     3+ years of Python 3.x, experience in ML algorithms/data analytics.     5+ years of advanced SQL development (ER modeling, SQL scripts, stored procedures, functions, s) with RDBMS such as PostgreSQL/MS SQL Server.     3+ years on AWS S3, EC2, Serverless computing (Lambda).     3+ years of experience/familiarity with DevOps using Stash/Jenkins/Chef and Puppet.     Excellent communication  in interfacing with different cross-functional teams.         5+ years of experience in designing, building applications using .NET platform using C#, .NET Core, ORM, SQL, MS SQL Server, Visual Studio.     1+ years' experience in developing containerized Docker .net core apps.\""
            ]
          },
          "metadata": {
            "tags": []
          },
          "execution_count": 5
        }
      ]
    },
    {
      "cell_type": "markdown",
      "metadata": {
        "id": "yom1LRGaIc9J"
      },
      "source": [
        "Create a list from the cleaned job description column"
      ]
    },
    {
      "cell_type": "code",
      "metadata": {
        "id": "YE6II7vhIhxg"
      },
      "source": [
        "jd = df['description'].tolist()"
      ],
      "execution_count": null,
      "outputs": []
    },
    {
      "cell_type": "markdown",
      "metadata": {
        "id": "Q3Q8puCuIQEu"
      },
      "source": [
        "Build model to tag each job description as a seperate document.\n"
      ]
    },
    {
      "cell_type": "code",
      "metadata": {
        "id": "FhMYG7L6Md3z",
        "outputId": "995a706d-6333-4e01-baa4-eb6a9b45c72c",
        "colab": {
          "base_uri": "https://localhost:8080/",
          "height": 54
        }
      },
      "source": [
        "import gensim\n",
        "import gensim.downloader as api\n",
        "from gensim import models\n",
        "# Create the tagged document needed for Doc2Vec\n",
        "def create_tagged_document(list_of_list_of_words):\n",
        "    for i, list_of_words in enumerate(list_of_list_of_words):\n",
        "        yield gensim.models.doc2vec.TaggedDocument(list_of_words, [i])\n",
        "\n",
        "train_data = list(create_tagged_document(jd))\n",
        "\n",
        "print(train_data[:1])"
      ],
      "execution_count": null,
      "outputs": [
        {
          "output_type": "stream",
          "text": [
            "[TaggedDocument(words=\"  Artificial Intelligence / Machine Learning Developer     Irving TX  Terms  Contract   Details             Bachelor's degree or 7-10 or more years of relevant  experience.     7+ years of server app development (design/develop/deploy).     3+ years of Python 3.x, experience in ML algorithms/data analytics.     5+ years of advanced SQL development (ER modeling, SQL scripts, stored procedures, functions, s) with RDBMS such as PostgreSQL/MS SQL Server.     3+ years on AWS S3, EC2, Serverless computing (Lambda).     3+ years of experience/familiarity with DevOps using Stash/Jenkins/Chef and Puppet.     Excellent communication  in interfacing with different cross-functional teams.         5+ years of experience in designing, building applications using .NET platform using C#, .NET Core, ORM, SQL, MS SQL Server, Visual Studio.     1+ years' experience in developing containerized Docker .net core apps.\", tags=[0])]\n"
          ],
          "name": "stdout"
        }
      ]
    },
    {
      "cell_type": "markdown",
      "metadata": {
        "id": "NsndaLppIhJv"
      },
      "source": [
        "Train the model on the job descriptions for matching later."
      ]
    },
    {
      "cell_type": "code",
      "metadata": {
        "id": "GIri67T3IlaI"
      },
      "source": [
        "# Init the Doc2Vec model\n",
        "model = gensim.models.doc2vec.Doc2Vec(vector_size=50, min_count=2, epochs=40)\n",
        "\n",
        "# Build the Volabulary\n",
        "model.build_vocab(train_data)\n",
        "\n",
        "# Train the Doc2Vec model\n",
        "model.train(train_data, total_examples=model.corpus_count, epochs=model.epochs)"
      ],
      "execution_count": null,
      "outputs": []
    },
    {
      "cell_type": "markdown",
      "metadata": {
        "id": "3gXtAilyI07r"
      },
      "source": [
        "Let's look at an example of how it converts a list of words to a vector."
      ]
    },
    {
      "cell_type": "markdown",
      "metadata": {
        "id": "bE7rcBnePvVl"
      },
      "source": [
        "## Save model as pickel"
      ]
    },
    {
      "cell_type": "code",
      "metadata": {
        "id": "UOOqmATHPumJ",
        "outputId": "e6e8a5a5-d15b-4480-99a8-20bab194c311",
        "colab": {
          "base_uri": "https://localhost:8080/",
          "height": 170
        }
      },
      "source": [
        "pickle.dump(model, open('model.pkl','wb'))\n",
        "# Loading model from pickle file\n",
        "model = pickle.load( open('model.pkl','rb'))\n",
        "#test infering vectors\n",
        "print(model.infer_vector(['data', 'science','python']))"
      ],
      "execution_count": null,
      "outputs": [
        {
          "output_type": "stream",
          "text": [
            "[-0.00429757 -0.00297611  0.00904408 -0.00976137  0.00639761  0.00729887\n",
            " -0.0060175   0.00303777 -0.00242801 -0.00995632 -0.00129785  0.00982981\n",
            "  0.00315597 -0.00721821 -0.00867892  0.00788841 -0.00339966 -0.00162887\n",
            "  0.00441544  0.00746401 -0.00349555 -0.00038155 -0.0077288   0.00483619\n",
            "  0.00707149  0.00414337  0.00113955  0.00541657  0.00119371  0.00305656\n",
            " -0.00128384  0.00254856 -0.00201426 -0.00587954  0.00709848 -0.00166082\n",
            " -0.00705521 -0.00044411  0.00060066 -0.00624194 -0.00823938 -0.00922911\n",
            " -0.00754664 -0.00991162  0.00071209  0.00360184  0.00311903 -0.005285\n",
            " -0.00755596 -0.00868551]\n"
          ],
          "name": "stdout"
        }
      ]
    },
    {
      "cell_type": "markdown",
      "metadata": {
        "id": "RDece4YgQCeE"
      },
      "source": [
        "# Create flask app"
      ]
    },
    {
      "cell_type": "code",
      "metadata": {
        "id": "vwUyew6jQOwC",
        "outputId": "b68cfbd4-2cb6-4824-c5f0-6a8f57443983",
        "colab": {
          "base_uri": "https://localhost:8080/",
          "height": 292
        }
      },
      "source": [
        "#install ngrok\n",
        "#!pip install flask-ngrok"
      ],
      "execution_count": null,
      "outputs": [
        {
          "output_type": "stream",
          "text": [
            "Collecting flask-ngrok\n",
            "  Downloading https://files.pythonhosted.org/packages/af/6c/f54cb686ad1129e27d125d182f90f52b32f284e6c8df58c1bae54fa1adbc/flask_ngrok-0.0.25-py3-none-any.whl\n",
            "Requirement already satisfied: Flask>=0.8 in /usr/local/lib/python3.6/dist-packages (from flask-ngrok) (1.1.2)\n",
            "Requirement already satisfied: requests in /usr/local/lib/python3.6/dist-packages (from flask-ngrok) (2.23.0)\n",
            "Requirement already satisfied: Werkzeug>=0.15 in /usr/local/lib/python3.6/dist-packages (from Flask>=0.8->flask-ngrok) (1.0.1)\n",
            "Requirement already satisfied: Jinja2>=2.10.1 in /usr/local/lib/python3.6/dist-packages (from Flask>=0.8->flask-ngrok) (2.11.2)\n",
            "Requirement already satisfied: itsdangerous>=0.24 in /usr/local/lib/python3.6/dist-packages (from Flask>=0.8->flask-ngrok) (1.1.0)\n",
            "Requirement already satisfied: click>=5.1 in /usr/local/lib/python3.6/dist-packages (from Flask>=0.8->flask-ngrok) (7.1.2)\n",
            "Requirement already satisfied: urllib3!=1.25.0,!=1.25.1,<1.26,>=1.21.1 in /usr/local/lib/python3.6/dist-packages (from requests->flask-ngrok) (1.24.3)\n",
            "Requirement already satisfied: idna<3,>=2.5 in /usr/local/lib/python3.6/dist-packages (from requests->flask-ngrok) (2.10)\n",
            "Requirement already satisfied: chardet<4,>=3.0.2 in /usr/local/lib/python3.6/dist-packages (from requests->flask-ngrok) (3.0.4)\n",
            "Requirement already satisfied: certifi>=2017.4.17 in /usr/local/lib/python3.6/dist-packages (from requests->flask-ngrok) (2020.6.20)\n",
            "Requirement already satisfied: MarkupSafe>=0.23 in /usr/local/lib/python3.6/dist-packages (from Jinja2>=2.10.1->Flask>=0.8->flask-ngrok) (1.1.1)\n",
            "Installing collected packages: flask-ngrok\n",
            "Successfully installed flask-ngrok-0.0.25\n"
          ],
          "name": "stdout"
        }
      ]
    },
    {
      "cell_type": "markdown",
      "metadata": {
        "id": "063d-as--W0A"
      },
      "source": [
        "Run a test app in ngrok - click on the 'Running on http://05fdd29d9a82.ngrok.io' like link below to load sample app in browser."
      ]
    },
    {
      "cell_type": "code",
      "metadata": {
        "id": "4XcuOTn25Sqm",
        "outputId": "7998dd7d-0159-4a55-8ab6-cfbd20420a8d",
        "colab": {
          "base_uri": "https://localhost:8080/",
          "height": 442
        }
      },
      "source": [
        "from flask import Flask\n",
        "from flask import request\n",
        "from flask_ngrok import run_with_ngrok\n",
        "\n",
        "app = Flask(__name__)\n",
        "run_with_ngrok(app)  # Start ngrok when app is run\n",
        "\n",
        "# for / root, return Hello Word\n",
        "@app.route(\"/\")\n",
        "def root():\n",
        "    url = request.method\n",
        "    return f\"Hello World! {url}\"\n",
        "\n",
        "app.run()"
      ],
      "execution_count": null,
      "outputs": [
        {
          "output_type": "stream",
          "text": [
            "Collecting flask-ngrok\n",
            "  Downloading https://files.pythonhosted.org/packages/af/6c/f54cb686ad1129e27d125d182f90f52b32f284e6c8df58c1bae54fa1adbc/flask_ngrok-0.0.25-py3-none-any.whl\n",
            "Requirement already satisfied: requests in /usr/local/lib/python3.6/dist-packages (from flask-ngrok) (2.23.0)\n",
            "Requirement already satisfied: Flask>=0.8 in /usr/local/lib/python3.6/dist-packages (from flask-ngrok) (1.1.2)\n",
            "Requirement already satisfied: chardet<4,>=3.0.2 in /usr/local/lib/python3.6/dist-packages (from requests->flask-ngrok) (3.0.4)\n",
            "Requirement already satisfied: urllib3!=1.25.0,!=1.25.1,<1.26,>=1.21.1 in /usr/local/lib/python3.6/dist-packages (from requests->flask-ngrok) (1.24.3)\n",
            "Requirement already satisfied: certifi>=2017.4.17 in /usr/local/lib/python3.6/dist-packages (from requests->flask-ngrok) (2020.6.20)\n",
            "Requirement already satisfied: idna<3,>=2.5 in /usr/local/lib/python3.6/dist-packages (from requests->flask-ngrok) (2.10)\n",
            "Requirement already satisfied: click>=5.1 in /usr/local/lib/python3.6/dist-packages (from Flask>=0.8->flask-ngrok) (7.1.2)\n",
            "Requirement already satisfied: itsdangerous>=0.24 in /usr/local/lib/python3.6/dist-packages (from Flask>=0.8->flask-ngrok) (1.1.0)\n",
            "Requirement already satisfied: Jinja2>=2.10.1 in /usr/local/lib/python3.6/dist-packages (from Flask>=0.8->flask-ngrok) (2.11.2)\n",
            "Requirement already satisfied: Werkzeug>=0.15 in /usr/local/lib/python3.6/dist-packages (from Flask>=0.8->flask-ngrok) (1.0.1)\n",
            "Requirement already satisfied: MarkupSafe>=0.23 in /usr/local/lib/python3.6/dist-packages (from Jinja2>=2.10.1->Flask>=0.8->flask-ngrok) (1.1.1)\n",
            "Installing collected packages: flask-ngrok\n",
            "Successfully installed flask-ngrok-0.0.25\n",
            " * Serving Flask app \"__main__\" (lazy loading)\n",
            " * Environment: production\n",
            "\u001b[31m   WARNING: This is a development server. Do not use it in a production deployment.\u001b[0m\n",
            "\u001b[2m   Use a production WSGI server instead.\u001b[0m\n",
            " * Debug mode: off\n"
          ],
          "name": "stdout"
        },
        {
          "output_type": "stream",
          "text": [
            " * Running on http://127.0.0.1:5000/ (Press CTRL+C to quit)\n"
          ],
          "name": "stderr"
        },
        {
          "output_type": "stream",
          "text": [
            " * Running on http://05fdd29d9a82.ngrok.io\n",
            " * Traffic stats available on http://127.0.0.1:4040\n"
          ],
          "name": "stdout"
        },
        {
          "output_type": "stream",
          "text": [
            "127.0.0.1 - - [01/Oct/2020 02:02:28] \"\u001b[37mGET / HTTP/1.1\u001b[0m\" 200 -\n",
            "127.0.0.1 - - [01/Oct/2020 02:02:28] \"\u001b[33mGET /favicon.ico HTTP/1.1\u001b[0m\" 404 -\n"
          ],
          "name": "stderr"
        }
      ]
    },
    {
      "cell_type": "markdown",
      "metadata": {
        "id": "NiYtCrXM-Tie"
      },
      "source": [
        "The actual NLP app code is here.\n",
        "- 1. Run the code below and open the nrgrok link in a browser window\n",
        "- 2. Paste the text from your resume in the box and click submit\n",
        "- 3. The response should appear as the json table of cosine distances, job descriptions and roles of the top five matches to the resume text.\n",
        "\n"
      ]
    },
    {
      "cell_type": "code",
      "metadata": {
        "id": "zCYzRTxx-RoN"
      },
      "source": [
        "from flask import Flask, request, render_template\n",
        "import gensim\n",
        "import gensim.downloader as api\n",
        "from gensim import models\n",
        "import pandas as pd\n",
        "import numpy as np\n",
        "import sklearn\n",
        "import pickle\n",
        "import json\n",
        "from sklearn.metrics.pairwise import cosine_distances\n",
        "\n",
        "app = Flask(__name__)\n",
        "\n",
        "@app.route('/')\n",
        "def my_form():\n",
        "    return render_template('https://raw.githubusercontent.com/AVJdataminer/HireOne/master/templates/my-form.html')\n",
        "\n",
        "@app.route('/', methods=['POST'])\n",
        "def my_form_post():\n",
        "    text = request.form['text']\n",
        "    #processed_text = text.upper()\n",
        "    proccessed_text = text.split()\n",
        "    #load model\n",
        "    loaded_model = pickle.load(open('https://raw.githubusercontent.com/AVJdataminer/HireOne/master/model.pkl', 'rb'))\n",
        "    #calc vector for resume input\n",
        "    resume_vect = loaded_model.infer_vector(proccessed_text)\n",
        "    #load job desc vectors\n",
        "    jd = pd.read_csv('https://raw.githubusercontent.com/AVJdataminer/HireOne/master/data/vectors_data.csv')\n",
        "    jn = jd.to_numpy()\n",
        "    #calculate cosine distances\n",
        "    cos_dist =[]\n",
        "    for i in range(jd.shape[0]):\n",
        "        cos_dist.append(float(cosine_distances(resume_vect[0:].reshape(1,-1),jn[i].reshape(1,-1))))\n",
        "    #load job desc data to return\n",
        "    df = pd.read_csv('https://raw.githubusercontent.com/AVJdataminer/HireOne/master/data/updated_job_description.csv', encoding = 'unicode_escape')\n",
        "    role = df['role'].tolist()\n",
        "    desc = df['description'].tolist()\n",
        "    summary = pd.DataFrame({\n",
        "        'Role Title': role,\n",
        "        'Cosine Distances': cos_dist,\n",
        "        'Job Description': desc\n",
        "    })\n",
        "    z = summary.sort_values(by ='Cosine Distances', ascending=True)\n",
        "    z = z.head()\n",
        "    text_vector = z.to_dict()\n",
        "    return text_vector\n",
        "\n",
        "if __name__=='__main__':\n",
        "    app.run(debug=True)"
      ],
      "execution_count": null,
      "outputs": []
    },
    {
      "cell_type": "markdown",
      "metadata": {
        "id": "JpY6hS3h-upL"
      },
      "source": [
        "# Next steps:\n",
        "1. Figure out the Heroku\n",
        "2. Improved formatted response template html code"
      ]
    },
    {
      "cell_type": "code",
      "metadata": {
        "id": "zC2Ctjdl_diF"
      },
      "source": [
        ""
      ],
      "execution_count": null,
      "outputs": []
    }
  ]
}