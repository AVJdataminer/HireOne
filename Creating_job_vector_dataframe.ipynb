{
 "metadata": {
  "language_info": {
   "codemirror_mode": {
    "name": "ipython",
    "version": 3
   },
   "file_extension": ".py",
   "mimetype": "text/x-python",
   "name": "python",
   "nbconvert_exporter": "python",
   "pygments_lexer": "ipython3",
   "version": "3.8.1-final"
  },
  "orig_nbformat": 2,
  "kernelspec": {
   "name": "Python 3.8.1 64-bit ('GPX_env': conda)",
   "display_name": "Python 3.8.1 64-bit ('GPX_env': conda)",
   "metadata": {
    "interpreter": {
     "hash": "f9dc096a8c23a0858a3bf1aff8fbf5638a8ae41725af93f9691fb6a274e293f7"
    }
   }
  }
 },
 "nbformat": 4,
 "nbformat_minor": 2,
 "cells": [
  {
   "cell_type": "code",
   "execution_count": 3,
   "metadata": {},
   "outputs": [],
   "source": [
    "import re\n",
    "import string\n",
    "from collections import Counter\n",
    "\n",
    "import pandas as pd\n",
    "import numpy as np\n",
    "from gensim.summarization import keywords\n",
    "import matplotlib.pyplot as plt\n",
    "import pickle\n",
    "import json"
   ]
  },
  {
   "cell_type": "code",
   "execution_count": 99,
   "metadata": {},
   "outputs": [
    {
     "output_type": "execute_result",
     "data": {
      "text/plain": "                                jobOrResumeDescription            role\n0    : Artificial Intelligence / Machine Learning D...       Developer\n1     : Data Scientist/Architect\\n: 6+ months + Hig...  Data Scientist\n2     : Data Analyst\\n: Davidson, NC\\n: 04+ Months\\...    Data Analyst\n3     : Big Data Architect or Data Scientist\\n: New...  Data Scientist\n4    : Data Engineer\\n: Woonsocket, RI\\n: 6+ Months...   Data Engineer\n..                                                 ...             ...\n96   Manager, Data Scientist, Natural Language Proc...  Data Scientist\n97   Sr. Data Scientist\\nTrace312 re - Irvine, CA\\n...  Data Scientist\n98   Applied Computational Mathematician / Engineer...   Data Engineer\n99   Senior Data Scientist\\nKareo Inc2 re - Irvine,...  Data Scientist\n100  \\nSenior Associate, Data &amp; Analytics Modeler, ...  Data Scientist\n\n[101 rows x 2 columns]",
      "text/html": "<div>\n<style scoped>\n    .dataframe tbody tr th:only-of-type {\n        vertical-align: middle;\n    }\n\n    .dataframe tbody tr th {\n        vertical-align: top;\n    }\n\n    .dataframe thead th {\n        text-align: right;\n    }\n</style>\n<table border=\"1\" class=\"dataframe\">\n  <thead>\n    <tr style=\"text-align: right;\">\n      <th></th>\n      <th>jobOrResumeDescription</th>\n      <th>role</th>\n    </tr>\n  </thead>\n  <tbody>\n    <tr>\n      <th>0</th>\n      <td>: Artificial Intelligence / Machine Learning D...</td>\n      <td>Developer</td>\n    </tr>\n    <tr>\n      <th>1</th>\n      <td>: Data Scientist/Architect\\n: 6+ months + Hig...</td>\n      <td>Data Scientist</td>\n    </tr>\n    <tr>\n      <th>2</th>\n      <td>: Data Analyst\\n: Davidson, NC\\n: 04+ Months\\...</td>\n      <td>Data Analyst</td>\n    </tr>\n    <tr>\n      <th>3</th>\n      <td>: Big Data Architect or Data Scientist\\n: New...</td>\n      <td>Data Scientist</td>\n    </tr>\n    <tr>\n      <th>4</th>\n      <td>: Data Engineer\\n: Woonsocket, RI\\n: 6+ Months...</td>\n      <td>Data Engineer</td>\n    </tr>\n    <tr>\n      <th>...</th>\n      <td>...</td>\n      <td>...</td>\n    </tr>\n    <tr>\n      <th>96</th>\n      <td>Manager, Data Scientist, Natural Language Proc...</td>\n      <td>Data Scientist</td>\n    </tr>\n    <tr>\n      <th>97</th>\n      <td>Sr. Data Scientist\\nTrace312 re - Irvine, CA\\n...</td>\n      <td>Data Scientist</td>\n    </tr>\n    <tr>\n      <th>98</th>\n      <td>Applied Computational Mathematician / Engineer...</td>\n      <td>Data Engineer</td>\n    </tr>\n    <tr>\n      <th>99</th>\n      <td>Senior Data Scientist\\nKareo Inc2 re - Irvine,...</td>\n      <td>Data Scientist</td>\n    </tr>\n    <tr>\n      <th>100</th>\n      <td>\\nSenior Associate, Data &amp; Analytics Modeler, ...</td>\n      <td>Data Scientist</td>\n    </tr>\n  </tbody>\n</table>\n<p>101 rows × 2 columns</p>\n</div>"
     },
     "metadata": {},
     "execution_count": 99
    }
   ],
   "source": [
    "#load df of job descriptions\n",
    "df = pd.read_csv('https://raw.githubusercontent.com/AVJdataminer/HireOne/master/data/job_descriptions.csv', encoding = 'unicode_escape')\n",
    "df"
   ]
  },
  {
   "cell_type": "code",
   "execution_count": 100,
   "metadata": {},
   "outputs": [],
   "source": [
    "#load df of job descriptions\n",
    "df = pd.read_csv('https://raw.githubusercontent.com/AVJdataminer/HireOne/master/data/job_descriptions.csv', encoding = 'unicode_escape')\n",
    "\n",
    "#clean text\n",
    "def clean_text(text):\n",
    "    text = text.replace('\\n', ' ')                # remove newline\n",
    "    text = text.replace(':', ' ')\n",
    "    return text\n",
    "df['description'] = df.apply(lambda x: clean_text(x['jobOrResumeDescription']), axis=1)\n",
    "df.to_csv('updated_job_description.csv',index=False)\n"
   ]
  },
  {
   "cell_type": "code",
   "execution_count": 101,
   "metadata": {},
   "outputs": [
    {
     "output_type": "execute_result",
     "data": {
      "text/plain": "                                jobOrResumeDescription            role  \\\n0    : Artificial Intelligence / Machine Learning D...       Developer   \n1     : Data Scientist/Architect\\n: 6+ months + Hig...  Data Scientist   \n2     : Data Analyst\\n: Davidson, NC\\n: 04+ Months\\...    Data Analyst   \n3     : Big Data Architect or Data Scientist\\n: New...  Data Scientist   \n4    : Data Engineer\\n: Woonsocket, RI\\n: 6+ Months...   Data Engineer   \n..                                                 ...             ...   \n96   Manager, Data Scientist, Natural Language Proc...  Data Scientist   \n97   Sr. Data Scientist\\nTrace312 re - Irvine, CA\\n...  Data Scientist   \n98   Applied Computational Mathematician / Engineer...   Data Engineer   \n99   Senior Data Scientist\\nKareo Inc2 re - Irvine,...  Data Scientist   \n100  \\nSenior Associate, Data &amp; Analytics Modeler, ...  Data Scientist   \n\n                                           description  \n0      Artificial Intelligence / Machine Learning D...  \n1       Data Scientist/Architect   6+ months + High...  \n2       Data Analyst   Davidson, NC   04+ Months   ...  \n3       Big Data Architect or Data Scientist   New ...  \n4      Data Engineer   Woonsocket, RI   6+ Months  ...  \n..                                                 ...  \n96   Manager, Data Scientist, Natural Language Proc...  \n97   Sr. Data Scientist Trace312 re - Irvine, CA  N...  \n98   Applied Computational Mathematician / Engineer...  \n99   Senior Data Scientist Kareo Inc2 re - Irvine, ...  \n100   Senior Associate, Data &amp; Analytics Modeler, N...  \n\n[101 rows x 3 columns]",
      "text/html": "<div>\n<style scoped>\n    .dataframe tbody tr th:only-of-type {\n        vertical-align: middle;\n    }\n\n    .dataframe tbody tr th {\n        vertical-align: top;\n    }\n\n    .dataframe thead th {\n        text-align: right;\n    }\n</style>\n<table border=\"1\" class=\"dataframe\">\n  <thead>\n    <tr style=\"text-align: right;\">\n      <th></th>\n      <th>jobOrResumeDescription</th>\n      <th>role</th>\n      <th>description</th>\n    </tr>\n  </thead>\n  <tbody>\n    <tr>\n      <th>0</th>\n      <td>: Artificial Intelligence / Machine Learning D...</td>\n      <td>Developer</td>\n      <td>Artificial Intelligence / Machine Learning D...</td>\n    </tr>\n    <tr>\n      <th>1</th>\n      <td>: Data Scientist/Architect\\n: 6+ months + Hig...</td>\n      <td>Data Scientist</td>\n      <td>Data Scientist/Architect   6+ months + High...</td>\n    </tr>\n    <tr>\n      <th>2</th>\n      <td>: Data Analyst\\n: Davidson, NC\\n: 04+ Months\\...</td>\n      <td>Data Analyst</td>\n      <td>Data Analyst   Davidson, NC   04+ Months   ...</td>\n    </tr>\n    <tr>\n      <th>3</th>\n      <td>: Big Data Architect or Data Scientist\\n: New...</td>\n      <td>Data Scientist</td>\n      <td>Big Data Architect or Data Scientist   New ...</td>\n    </tr>\n    <tr>\n      <th>4</th>\n      <td>: Data Engineer\\n: Woonsocket, RI\\n: 6+ Months...</td>\n      <td>Data Engineer</td>\n      <td>Data Engineer   Woonsocket, RI   6+ Months  ...</td>\n    </tr>\n    <tr>\n      <th>...</th>\n      <td>...</td>\n      <td>...</td>\n      <td>...</td>\n    </tr>\n    <tr>\n      <th>96</th>\n      <td>Manager, Data Scientist, Natural Language Proc...</td>\n      <td>Data Scientist</td>\n      <td>Manager, Data Scientist, Natural Language Proc...</td>\n    </tr>\n    <tr>\n      <th>97</th>\n      <td>Sr. Data Scientist\\nTrace312 re - Irvine, CA\\n...</td>\n      <td>Data Scientist</td>\n      <td>Sr. Data Scientist Trace312 re - Irvine, CA  N...</td>\n    </tr>\n    <tr>\n      <th>98</th>\n      <td>Applied Computational Mathematician / Engineer...</td>\n      <td>Data Engineer</td>\n      <td>Applied Computational Mathematician / Engineer...</td>\n    </tr>\n    <tr>\n      <th>99</th>\n      <td>Senior Data Scientist\\nKareo Inc2 re - Irvine,...</td>\n      <td>Data Scientist</td>\n      <td>Senior Data Scientist Kareo Inc2 re - Irvine, ...</td>\n    </tr>\n    <tr>\n      <th>100</th>\n      <td>\\nSenior Associate, Data &amp; Analytics Modeler, ...</td>\n      <td>Data Scientist</td>\n      <td>Senior Associate, Data &amp; Analytics Modeler, N...</td>\n    </tr>\n  </tbody>\n</table>\n<p>101 rows × 3 columns</p>\n</div>"
     },
     "metadata": {},
     "execution_count": 101
    }
   ],
   "source": [
    "df = pd.read_csv('https://raw.githubusercontent.com/AVJdataminer/HireOne/master/data/updated_job_description.csv', encoding = 'unicode_escape')\n",
    "df"
   ]
  },
  {
   "cell_type": "code",
   "execution_count": null,
   "metadata": {},
   "outputs": [],
   "source": [
    "#load the pickled model\n",
    "model = pickle.load(open('flask-gensim-master/model.pkl', 'rb'))\n",
    "#apply model to job descriptions\n",
    "data = []\n",
    "for i in range(len(jd)):\n",
    "    data.append(model.docvecs[i])"
   ]
  },
  {
   "cell_type": "code",
   "execution_count": 79,
   "metadata": {},
   "outputs": [
    {
     "output_type": "execute_result",
     "data": {
      "text/plain": "list"
     },
     "metadata": {},
     "execution_count": 79
    }
   ],
   "source": [
    "type(data)"
   ]
  },
  {
   "cell_type": "code",
   "execution_count": 84,
   "metadata": {},
   "outputs": [
    {
     "output_type": "execute_result",
     "data": {
      "text/plain": "           0         1         2         3         4         5         6   \\\n0    0.716564 -1.065165 -0.428405  0.248561  0.336572  1.065735  0.432269   \n1    0.457946 -0.433382 -0.045955 -0.342565  0.396924 -0.201396  0.732105   \n2   -0.722351 -0.003821 -0.115539  1.005745  1.522638  0.269075  0.678246   \n3    0.382933 -1.435146  0.094152 -1.024086  0.318578 -0.311488  0.319861   \n4   -0.479786 -1.298678 -1.025030  0.738503  0.603982 -0.206812  0.146893   \n..        ...       ...       ...       ...       ...       ...       ...   \n96   2.077199 -0.014712 -0.607361 -0.490806  0.754146 -0.239011  0.839618   \n97   0.369127 -0.059066  0.216099  0.554112  0.122237 -0.680145  1.177189   \n98   0.647297  0.142452  1.162984  2.070364 -0.082470 -0.557821 -0.389664   \n99  -0.586613  0.452409 -0.289392  0.216338  0.436588 -0.559984  1.026871   \n100  0.741733  0.103755 -1.021751 -0.692825  1.058292 -0.602417  1.368869   \n\n           7         8         9   ...        40        41        42  \\\n0    0.146391 -0.089497  1.446806  ... -0.366455  0.516402 -0.179295   \n1    0.320551 -0.606481  0.360721  ... -0.109131 -0.311959 -0.620210   \n2    0.511006 -1.521929  0.125855  ...  0.824674 -0.894697 -0.802536   \n3    0.738991  0.763444  0.785537  ... -0.023977 -0.393346 -0.318398   \n4   -0.593513 -0.348453  0.032791  ...  0.301121 -0.821079 -0.195011   \n..        ...       ...       ...  ...       ...       ...       ...   \n96   0.591885 -0.144778  0.536262  ...  0.332972 -2.503145 -0.068190   \n97  -0.004821 -1.442633  0.869071  ...  1.078838 -0.398888  0.396601   \n98  -0.066190 -0.424721 -0.359158  ... -0.187232 -0.506345 -0.265118   \n99  -0.719975 -0.789901 -0.873045  ... -0.022961 -0.565891  0.215431   \n100  0.254927 -0.247948  0.504281  ...  0.799392 -2.697768 -0.059899   \n\n           43        44        45        46        47        48        49  \n0   -0.614482  1.084064 -0.220068 -0.932965 -0.212290 -0.230840  0.035123  \n1   -0.846204  0.180210  0.176914 -0.585403 -0.444073  0.623427  0.422027  \n2   -1.619667 -0.743317  0.414946 -0.051693 -1.045633  0.005816 -0.164042  \n3    0.321846  0.052125  0.514942  0.395629 -1.454744  0.614528  0.346055  \n4   -0.249775  0.612524  0.775250  0.450204 -0.599325  0.570739  0.125867  \n..        ...       ...       ...       ...       ...       ...       ...  \n96  -2.057077  2.525333 -0.859906 -1.006752  0.308322  0.145037 -0.365624  \n97   1.468867 -0.193589  0.777125 -0.618219 -0.822574  2.220715  0.134016  \n98   1.626017 -0.991126  0.244445  0.022320 -0.272566  1.197520 -0.234264  \n99  -0.697284 -1.545561  0.360037  0.017805 -1.192828 -0.064704 -0.464967  \n100 -2.623017  2.156730 -0.487564 -1.340093  0.685116  0.270963  0.308149  \n\n[101 rows x 50 columns]",
      "text/html": "<div>\n<style scoped>\n    .dataframe tbody tr th:only-of-type {\n        vertical-align: middle;\n    }\n\n    .dataframe tbody tr th {\n        vertical-align: top;\n    }\n\n    .dataframe thead th {\n        text-align: right;\n    }\n</style>\n<table border=\"1\" class=\"dataframe\">\n  <thead>\n    <tr style=\"text-align: right;\">\n      <th></th>\n      <th>0</th>\n      <th>1</th>\n      <th>2</th>\n      <th>3</th>\n      <th>4</th>\n      <th>5</th>\n      <th>6</th>\n      <th>7</th>\n      <th>8</th>\n      <th>9</th>\n      <th>...</th>\n      <th>40</th>\n      <th>41</th>\n      <th>42</th>\n      <th>43</th>\n      <th>44</th>\n      <th>45</th>\n      <th>46</th>\n      <th>47</th>\n      <th>48</th>\n      <th>49</th>\n    </tr>\n  </thead>\n  <tbody>\n    <tr>\n      <th>0</th>\n      <td>0.716564</td>\n      <td>-1.065165</td>\n      <td>-0.428405</td>\n      <td>0.248561</td>\n      <td>0.336572</td>\n      <td>1.065735</td>\n      <td>0.432269</td>\n      <td>0.146391</td>\n      <td>-0.089497</td>\n      <td>1.446806</td>\n      <td>...</td>\n      <td>-0.366455</td>\n      <td>0.516402</td>\n      <td>-0.179295</td>\n      <td>-0.614482</td>\n      <td>1.084064</td>\n      <td>-0.220068</td>\n      <td>-0.932965</td>\n      <td>-0.212290</td>\n      <td>-0.230840</td>\n      <td>0.035123</td>\n    </tr>\n    <tr>\n      <th>1</th>\n      <td>0.457946</td>\n      <td>-0.433382</td>\n      <td>-0.045955</td>\n      <td>-0.342565</td>\n      <td>0.396924</td>\n      <td>-0.201396</td>\n      <td>0.732105</td>\n      <td>0.320551</td>\n      <td>-0.606481</td>\n      <td>0.360721</td>\n      <td>...</td>\n      <td>-0.109131</td>\n      <td>-0.311959</td>\n      <td>-0.620210</td>\n      <td>-0.846204</td>\n      <td>0.180210</td>\n      <td>0.176914</td>\n      <td>-0.585403</td>\n      <td>-0.444073</td>\n      <td>0.623427</td>\n      <td>0.422027</td>\n    </tr>\n    <tr>\n      <th>2</th>\n      <td>-0.722351</td>\n      <td>-0.003821</td>\n      <td>-0.115539</td>\n      <td>1.005745</td>\n      <td>1.522638</td>\n      <td>0.269075</td>\n      <td>0.678246</td>\n      <td>0.511006</td>\n      <td>-1.521929</td>\n      <td>0.125855</td>\n      <td>...</td>\n      <td>0.824674</td>\n      <td>-0.894697</td>\n      <td>-0.802536</td>\n      <td>-1.619667</td>\n      <td>-0.743317</td>\n      <td>0.414946</td>\n      <td>-0.051693</td>\n      <td>-1.045633</td>\n      <td>0.005816</td>\n      <td>-0.164042</td>\n    </tr>\n    <tr>\n      <th>3</th>\n      <td>0.382933</td>\n      <td>-1.435146</td>\n      <td>0.094152</td>\n      <td>-1.024086</td>\n      <td>0.318578</td>\n      <td>-0.311488</td>\n      <td>0.319861</td>\n      <td>0.738991</td>\n      <td>0.763444</td>\n      <td>0.785537</td>\n      <td>...</td>\n      <td>-0.023977</td>\n      <td>-0.393346</td>\n      <td>-0.318398</td>\n      <td>0.321846</td>\n      <td>0.052125</td>\n      <td>0.514942</td>\n      <td>0.395629</td>\n      <td>-1.454744</td>\n      <td>0.614528</td>\n      <td>0.346055</td>\n    </tr>\n    <tr>\n      <th>4</th>\n      <td>-0.479786</td>\n      <td>-1.298678</td>\n      <td>-1.025030</td>\n      <td>0.738503</td>\n      <td>0.603982</td>\n      <td>-0.206812</td>\n      <td>0.146893</td>\n      <td>-0.593513</td>\n      <td>-0.348453</td>\n      <td>0.032791</td>\n      <td>...</td>\n      <td>0.301121</td>\n      <td>-0.821079</td>\n      <td>-0.195011</td>\n      <td>-0.249775</td>\n      <td>0.612524</td>\n      <td>0.775250</td>\n      <td>0.450204</td>\n      <td>-0.599325</td>\n      <td>0.570739</td>\n      <td>0.125867</td>\n    </tr>\n    <tr>\n      <th>...</th>\n      <td>...</td>\n      <td>...</td>\n      <td>...</td>\n      <td>...</td>\n      <td>...</td>\n      <td>...</td>\n      <td>...</td>\n      <td>...</td>\n      <td>...</td>\n      <td>...</td>\n      <td>...</td>\n      <td>...</td>\n      <td>...</td>\n      <td>...</td>\n      <td>...</td>\n      <td>...</td>\n      <td>...</td>\n      <td>...</td>\n      <td>...</td>\n      <td>...</td>\n      <td>...</td>\n    </tr>\n    <tr>\n      <th>96</th>\n      <td>2.077199</td>\n      <td>-0.014712</td>\n      <td>-0.607361</td>\n      <td>-0.490806</td>\n      <td>0.754146</td>\n      <td>-0.239011</td>\n      <td>0.839618</td>\n      <td>0.591885</td>\n      <td>-0.144778</td>\n      <td>0.536262</td>\n      <td>...</td>\n      <td>0.332972</td>\n      <td>-2.503145</td>\n      <td>-0.068190</td>\n      <td>-2.057077</td>\n      <td>2.525333</td>\n      <td>-0.859906</td>\n      <td>-1.006752</td>\n      <td>0.308322</td>\n      <td>0.145037</td>\n      <td>-0.365624</td>\n    </tr>\n    <tr>\n      <th>97</th>\n      <td>0.369127</td>\n      <td>-0.059066</td>\n      <td>0.216099</td>\n      <td>0.554112</td>\n      <td>0.122237</td>\n      <td>-0.680145</td>\n      <td>1.177189</td>\n      <td>-0.004821</td>\n      <td>-1.442633</td>\n      <td>0.869071</td>\n      <td>...</td>\n      <td>1.078838</td>\n      <td>-0.398888</td>\n      <td>0.396601</td>\n      <td>1.468867</td>\n      <td>-0.193589</td>\n      <td>0.777125</td>\n      <td>-0.618219</td>\n      <td>-0.822574</td>\n      <td>2.220715</td>\n      <td>0.134016</td>\n    </tr>\n    <tr>\n      <th>98</th>\n      <td>0.647297</td>\n      <td>0.142452</td>\n      <td>1.162984</td>\n      <td>2.070364</td>\n      <td>-0.082470</td>\n      <td>-0.557821</td>\n      <td>-0.389664</td>\n      <td>-0.066190</td>\n      <td>-0.424721</td>\n      <td>-0.359158</td>\n      <td>...</td>\n      <td>-0.187232</td>\n      <td>-0.506345</td>\n      <td>-0.265118</td>\n      <td>1.626017</td>\n      <td>-0.991126</td>\n      <td>0.244445</td>\n      <td>0.022320</td>\n      <td>-0.272566</td>\n      <td>1.197520</td>\n      <td>-0.234264</td>\n    </tr>\n    <tr>\n      <th>99</th>\n      <td>-0.586613</td>\n      <td>0.452409</td>\n      <td>-0.289392</td>\n      <td>0.216338</td>\n      <td>0.436588</td>\n      <td>-0.559984</td>\n      <td>1.026871</td>\n      <td>-0.719975</td>\n      <td>-0.789901</td>\n      <td>-0.873045</td>\n      <td>...</td>\n      <td>-0.022961</td>\n      <td>-0.565891</td>\n      <td>0.215431</td>\n      <td>-0.697284</td>\n      <td>-1.545561</td>\n      <td>0.360037</td>\n      <td>0.017805</td>\n      <td>-1.192828</td>\n      <td>-0.064704</td>\n      <td>-0.464967</td>\n    </tr>\n    <tr>\n      <th>100</th>\n      <td>0.741733</td>\n      <td>0.103755</td>\n      <td>-1.021751</td>\n      <td>-0.692825</td>\n      <td>1.058292</td>\n      <td>-0.602417</td>\n      <td>1.368869</td>\n      <td>0.254927</td>\n      <td>-0.247948</td>\n      <td>0.504281</td>\n      <td>...</td>\n      <td>0.799392</td>\n      <td>-2.697768</td>\n      <td>-0.059899</td>\n      <td>-2.623017</td>\n      <td>2.156730</td>\n      <td>-0.487564</td>\n      <td>-1.340093</td>\n      <td>0.685116</td>\n      <td>0.270963</td>\n      <td>0.308149</td>\n    </tr>\n  </tbody>\n</table>\n<p>101 rows × 50 columns</p>\n</div>"
     },
     "metadata": {},
     "execution_count": 84
    }
   ],
   "source": [
    "test = pd.DataFrame(data)\n",
    "test"
   ]
  },
  {
   "cell_type": "code",
   "execution_count": 89,
   "metadata": {},
   "outputs": [],
   "source": [
    "test.to_csv('vectors_data.csv',index=False)"
   ]
  },
  {
   "cell_type": "code",
   "execution_count": 90,
   "metadata": {
    "tags": []
   },
   "outputs": [
    {
     "output_type": "execute_result",
     "data": {
      "text/plain": "            0         1         2         3         4         5         6  \\\n0    0.716564 -1.065165 -0.428405  0.248561  0.336572  1.065735  0.432269   \n1    0.457946 -0.433382 -0.045955 -0.342565  0.396924 -0.201396  0.732105   \n2   -0.722351 -0.003821 -0.115539  1.005745  1.522638  0.269075  0.678246   \n3    0.382933 -1.435146  0.094152 -1.024086  0.318578 -0.311488  0.319861   \n4   -0.479786 -1.298678 -1.025030  0.738503  0.603982 -0.206812  0.146893   \n..        ...       ...       ...       ...       ...       ...       ...   \n96   2.077199 -0.014712 -0.607361 -0.490806  0.754146 -0.239011  0.839618   \n97   0.369127 -0.059066  0.216099  0.554112  0.122237 -0.680145  1.177189   \n98   0.647297  0.142452  1.162984  2.070364 -0.082470 -0.557821 -0.389664   \n99  -0.586613  0.452409 -0.289392  0.216338  0.436588 -0.559984  1.026871   \n100  0.741733  0.103755 -1.021751 -0.692825  1.058292 -0.602417  1.368869   \n\n            7         8         9  ...        40        41        42  \\\n0    0.146391 -0.089497  1.446806  ... -0.366455  0.516402 -0.179295   \n1    0.320551 -0.606481  0.360721  ... -0.109131 -0.311959 -0.620210   \n2    0.511006 -1.521929  0.125855  ...  0.824674 -0.894697 -0.802536   \n3    0.738991  0.763444  0.785537  ... -0.023977 -0.393346 -0.318398   \n4   -0.593513 -0.348453  0.032791  ...  0.301121 -0.821079 -0.195011   \n..        ...       ...       ...  ...       ...       ...       ...   \n96   0.591885 -0.144778  0.536262  ...  0.332972 -2.503145 -0.068190   \n97  -0.004821 -1.442633  0.869071  ...  1.078838 -0.398888  0.396601   \n98  -0.066190 -0.424721 -0.359158  ... -0.187232 -0.506345 -0.265118   \n99  -0.719975 -0.789901 -0.873045  ... -0.022961 -0.565891  0.215431   \n100  0.254927 -0.247948  0.504281  ...  0.799392 -2.697768 -0.059899   \n\n           43        44        45        46        47        48        49  \n0   -0.614482  1.084064 -0.220068 -0.932965 -0.212290 -0.230840  0.035123  \n1   -0.846204  0.180210  0.176914 -0.585403 -0.444073  0.623427  0.422027  \n2   -1.619667 -0.743317  0.414946 -0.051693 -1.045633  0.005816 -0.164042  \n3    0.321846  0.052125  0.514942  0.395629 -1.454744  0.614528  0.346055  \n4   -0.249775  0.612524  0.775250  0.450204 -0.599325  0.570739  0.125867  \n..        ...       ...       ...       ...       ...       ...       ...  \n96  -2.057077  2.525333 -0.859906 -1.006752  0.308322  0.145037 -0.365624  \n97   1.468867 -0.193589  0.777125 -0.618219 -0.822574  2.220715  0.134016  \n98   1.626017 -0.991126  0.244445  0.022320 -0.272566  1.197520 -0.234264  \n99  -0.697284 -1.545561  0.360037  0.017805 -1.192828 -0.064704 -0.464967  \n100 -2.623017  2.156730 -0.487564 -1.340093  0.685116  0.270963  0.308149  \n\n[101 rows x 50 columns]",
      "text/html": "<div>\n<style scoped>\n    .dataframe tbody tr th:only-of-type {\n        vertical-align: middle;\n    }\n\n    .dataframe tbody tr th {\n        vertical-align: top;\n    }\n\n    .dataframe thead th {\n        text-align: right;\n    }\n</style>\n<table border=\"1\" class=\"dataframe\">\n  <thead>\n    <tr style=\"text-align: right;\">\n      <th></th>\n      <th>0</th>\n      <th>1</th>\n      <th>2</th>\n      <th>3</th>\n      <th>4</th>\n      <th>5</th>\n      <th>6</th>\n      <th>7</th>\n      <th>8</th>\n      <th>9</th>\n      <th>...</th>\n      <th>40</th>\n      <th>41</th>\n      <th>42</th>\n      <th>43</th>\n      <th>44</th>\n      <th>45</th>\n      <th>46</th>\n      <th>47</th>\n      <th>48</th>\n      <th>49</th>\n    </tr>\n  </thead>\n  <tbody>\n    <tr>\n      <th>0</th>\n      <td>0.716564</td>\n      <td>-1.065165</td>\n      <td>-0.428405</td>\n      <td>0.248561</td>\n      <td>0.336572</td>\n      <td>1.065735</td>\n      <td>0.432269</td>\n      <td>0.146391</td>\n      <td>-0.089497</td>\n      <td>1.446806</td>\n      <td>...</td>\n      <td>-0.366455</td>\n      <td>0.516402</td>\n      <td>-0.179295</td>\n      <td>-0.614482</td>\n      <td>1.084064</td>\n      <td>-0.220068</td>\n      <td>-0.932965</td>\n      <td>-0.212290</td>\n      <td>-0.230840</td>\n      <td>0.035123</td>\n    </tr>\n    <tr>\n      <th>1</th>\n      <td>0.457946</td>\n      <td>-0.433382</td>\n      <td>-0.045955</td>\n      <td>-0.342565</td>\n      <td>0.396924</td>\n      <td>-0.201396</td>\n      <td>0.732105</td>\n      <td>0.320551</td>\n      <td>-0.606481</td>\n      <td>0.360721</td>\n      <td>...</td>\n      <td>-0.109131</td>\n      <td>-0.311959</td>\n      <td>-0.620210</td>\n      <td>-0.846204</td>\n      <td>0.180210</td>\n      <td>0.176914</td>\n      <td>-0.585403</td>\n      <td>-0.444073</td>\n      <td>0.623427</td>\n      <td>0.422027</td>\n    </tr>\n    <tr>\n      <th>2</th>\n      <td>-0.722351</td>\n      <td>-0.003821</td>\n      <td>-0.115539</td>\n      <td>1.005745</td>\n      <td>1.522638</td>\n      <td>0.269075</td>\n      <td>0.678246</td>\n      <td>0.511006</td>\n      <td>-1.521929</td>\n      <td>0.125855</td>\n      <td>...</td>\n      <td>0.824674</td>\n      <td>-0.894697</td>\n      <td>-0.802536</td>\n      <td>-1.619667</td>\n      <td>-0.743317</td>\n      <td>0.414946</td>\n      <td>-0.051693</td>\n      <td>-1.045633</td>\n      <td>0.005816</td>\n      <td>-0.164042</td>\n    </tr>\n    <tr>\n      <th>3</th>\n      <td>0.382933</td>\n      <td>-1.435146</td>\n      <td>0.094152</td>\n      <td>-1.024086</td>\n      <td>0.318578</td>\n      <td>-0.311488</td>\n      <td>0.319861</td>\n      <td>0.738991</td>\n      <td>0.763444</td>\n      <td>0.785537</td>\n      <td>...</td>\n      <td>-0.023977</td>\n      <td>-0.393346</td>\n      <td>-0.318398</td>\n      <td>0.321846</td>\n      <td>0.052125</td>\n      <td>0.514942</td>\n      <td>0.395629</td>\n      <td>-1.454744</td>\n      <td>0.614528</td>\n      <td>0.346055</td>\n    </tr>\n    <tr>\n      <th>4</th>\n      <td>-0.479786</td>\n      <td>-1.298678</td>\n      <td>-1.025030</td>\n      <td>0.738503</td>\n      <td>0.603982</td>\n      <td>-0.206812</td>\n      <td>0.146893</td>\n      <td>-0.593513</td>\n      <td>-0.348453</td>\n      <td>0.032791</td>\n      <td>...</td>\n      <td>0.301121</td>\n      <td>-0.821079</td>\n      <td>-0.195011</td>\n      <td>-0.249775</td>\n      <td>0.612524</td>\n      <td>0.775250</td>\n      <td>0.450204</td>\n      <td>-0.599325</td>\n      <td>0.570739</td>\n      <td>0.125867</td>\n    </tr>\n    <tr>\n      <th>...</th>\n      <td>...</td>\n      <td>...</td>\n      <td>...</td>\n      <td>...</td>\n      <td>...</td>\n      <td>...</td>\n      <td>...</td>\n      <td>...</td>\n      <td>...</td>\n      <td>...</td>\n      <td>...</td>\n      <td>...</td>\n      <td>...</td>\n      <td>...</td>\n      <td>...</td>\n      <td>...</td>\n      <td>...</td>\n      <td>...</td>\n      <td>...</td>\n      <td>...</td>\n      <td>...</td>\n    </tr>\n    <tr>\n      <th>96</th>\n      <td>2.077199</td>\n      <td>-0.014712</td>\n      <td>-0.607361</td>\n      <td>-0.490806</td>\n      <td>0.754146</td>\n      <td>-0.239011</td>\n      <td>0.839618</td>\n      <td>0.591885</td>\n      <td>-0.144778</td>\n      <td>0.536262</td>\n      <td>...</td>\n      <td>0.332972</td>\n      <td>-2.503145</td>\n      <td>-0.068190</td>\n      <td>-2.057077</td>\n      <td>2.525333</td>\n      <td>-0.859906</td>\n      <td>-1.006752</td>\n      <td>0.308322</td>\n      <td>0.145037</td>\n      <td>-0.365624</td>\n    </tr>\n    <tr>\n      <th>97</th>\n      <td>0.369127</td>\n      <td>-0.059066</td>\n      <td>0.216099</td>\n      <td>0.554112</td>\n      <td>0.122237</td>\n      <td>-0.680145</td>\n      <td>1.177189</td>\n      <td>-0.004821</td>\n      <td>-1.442633</td>\n      <td>0.869071</td>\n      <td>...</td>\n      <td>1.078838</td>\n      <td>-0.398888</td>\n      <td>0.396601</td>\n      <td>1.468867</td>\n      <td>-0.193589</td>\n      <td>0.777125</td>\n      <td>-0.618219</td>\n      <td>-0.822574</td>\n      <td>2.220715</td>\n      <td>0.134016</td>\n    </tr>\n    <tr>\n      <th>98</th>\n      <td>0.647297</td>\n      <td>0.142452</td>\n      <td>1.162984</td>\n      <td>2.070364</td>\n      <td>-0.082470</td>\n      <td>-0.557821</td>\n      <td>-0.389664</td>\n      <td>-0.066190</td>\n      <td>-0.424721</td>\n      <td>-0.359158</td>\n      <td>...</td>\n      <td>-0.187232</td>\n      <td>-0.506345</td>\n      <td>-0.265118</td>\n      <td>1.626017</td>\n      <td>-0.991126</td>\n      <td>0.244445</td>\n      <td>0.022320</td>\n      <td>-0.272566</td>\n      <td>1.197520</td>\n      <td>-0.234264</td>\n    </tr>\n    <tr>\n      <th>99</th>\n      <td>-0.586613</td>\n      <td>0.452409</td>\n      <td>-0.289392</td>\n      <td>0.216338</td>\n      <td>0.436588</td>\n      <td>-0.559984</td>\n      <td>1.026871</td>\n      <td>-0.719975</td>\n      <td>-0.789901</td>\n      <td>-0.873045</td>\n      <td>...</td>\n      <td>-0.022961</td>\n      <td>-0.565891</td>\n      <td>0.215431</td>\n      <td>-0.697284</td>\n      <td>-1.545561</td>\n      <td>0.360037</td>\n      <td>0.017805</td>\n      <td>-1.192828</td>\n      <td>-0.064704</td>\n      <td>-0.464967</td>\n    </tr>\n    <tr>\n      <th>100</th>\n      <td>0.741733</td>\n      <td>0.103755</td>\n      <td>-1.021751</td>\n      <td>-0.692825</td>\n      <td>1.058292</td>\n      <td>-0.602417</td>\n      <td>1.368869</td>\n      <td>0.254927</td>\n      <td>-0.247948</td>\n      <td>0.504281</td>\n      <td>...</td>\n      <td>0.799392</td>\n      <td>-2.697768</td>\n      <td>-0.059899</td>\n      <td>-2.623017</td>\n      <td>2.156730</td>\n      <td>-0.487564</td>\n      <td>-1.340093</td>\n      <td>0.685116</td>\n      <td>0.270963</td>\n      <td>0.308149</td>\n    </tr>\n  </tbody>\n</table>\n<p>101 rows × 50 columns</p>\n</div>"
     },
     "metadata": {},
     "execution_count": 90
    }
   ],
   "source": [
    "\n",
    "#load new jb df\n",
    "jd = pd.read_csv('vectors_data.csv')\n",
    "jd"
   ]
  },
  {
   "cell_type": "code",
   "execution_count": 96,
   "metadata": {},
   "outputs": [
    {
     "output_type": "execute_result",
     "data": {
      "text/plain": "array([[ 0.71656388, -1.0651648 , -0.42840531, ..., -0.21228984,\n        -0.23084009,  0.03512256],\n       [ 0.45794606, -0.43338215, -0.04595498, ..., -0.44407263,\n         0.62342697,  0.42202672],\n       [-0.72235107, -0.00382064, -0.1155393 , ..., -1.04563332,\n         0.00581568, -0.1640418 ],\n       ...,\n       [ 0.64729673,  0.14245185,  1.16298449, ..., -0.27256632,\n         1.19751978, -0.23426376],\n       [-0.58661306,  0.45240909, -0.28939193, ..., -1.19282794,\n        -0.06470406, -0.46496689],\n       [ 0.74173272,  0.10375462, -1.02175069, ...,  0.68511599,\n         0.27096272,  0.30814925]])"
     },
     "metadata": {},
     "execution_count": 96
    }
   ],
   "source": [
    "jn = jd.to_numpy()\n",
    "jn"
   ]
  },
  {
   "cell_type": "code",
   "execution_count": 58,
   "metadata": {
    "tags": []
   },
   "outputs": [
    {
     "output_type": "stream",
     "name": "stdout",
     "text": "       Role Title                                            jd_vecs  \\\n0       Developer  [ 0.7165639  -1.0651648  -0.4284053   0.248561...   \n1  Data Scientist  [ 0.45794606 -0.43338215 -0.04595498 -0.342564...   \n2    Data Analyst  [-0.7223511  -0.00382064 -0.1155393   1.005744...   \n3  Data Scientist  [ 0.38293263 -1.4351465   0.09415209 -1.024086...   \n4   Data Engineer  [-0.47978604 -1.2986784  -1.0250297   0.738503...   \n\n                                     Job Description  \n0    Artificial Intelligence / Machine Learning D...  \n1     Data Scientist/Architect   6+ months + High...  \n2     Data Analyst   Davidson, NC   04+ Months   ...  \n3     Big Data Architect or Data Scientist   New ...  \n4    Data Engineer   Woonsocket, RI   6+ Months  ...  \n"
    }
   ],
   "source": [
    "\n",
    "#calc vector for resume input\n",
    "resume = open(\"flask-gensim-master/test_file.txt\", \"r\").read()\n",
    "resume_vect = model.infer_vector(resume.split())"
   ]
  },
  {
   "cell_type": "code",
   "execution_count": 26,
   "metadata": {},
   "outputs": [
    {
     "output_type": "execute_result",
     "data": {
      "text/plain": "array([ 0.11723824, -0.20937707,  0.0970483 ,  0.15921697,  0.10469028,\n       -0.16650406,  0.12168825,  0.0915208 , -0.04916159, -0.07745463,\n        0.10542317, -0.05189062,  0.16678013,  0.22620443,  0.08199309,\n        0.07833255,  0.08720113, -0.01730636, -0.16371503, -0.20996279,\n        0.41546562, -0.15348516, -0.12013239, -0.30201453,  0.10556756,\n       -0.16804965, -0.21331266, -0.29139516, -0.09228415, -0.02417945,\n        0.22985432,  0.40949965, -0.1846519 , -0.04860288, -0.17935646,\n       -0.02940033,  0.17855561,  0.15101321,  0.03192548,  0.04512107,\n        0.15871271,  0.07160146, -0.0082694 ,  0.07223529,  0.1291219 ,\n        0.02648458, -0.15808482, -0.35294232, -0.02254341, -0.10713521],\n      dtype=float32)"
     },
     "metadata": {},
     "execution_count": 26
    }
   ],
   "source": [
    "resume_vect"
   ]
  },
  {
   "cell_type": "code",
   "execution_count": 98,
   "metadata": {},
   "outputs": [
    {
     "output_type": "execute_result",
     "data": {
      "text/plain": "numpy.ndarray"
     },
     "metadata": {},
     "execution_count": 98
    }
   ],
   "source": [
    "type(jn)"
   ]
  },
  {
   "cell_type": "code",
   "execution_count": 97,
   "metadata": {},
   "outputs": [],
   "source": [
    "#calculate cosine distances\n",
    "from sklearn.metrics.pairwise import cosine_distances\n",
    "cos_dist =[]\n",
    "for i in range(jd.shape[0]):\n",
    "    cos_dist.append(float(cosine_distances(resume_vect[0:].reshape(1,-1),jn[i].reshape(1,-1))))\n",
    "#rank to get top 5 jobs"
   ]
  },
  {
   "cell_type": "code",
   "execution_count": 95,
   "metadata": {},
   "outputs": [
    {
     "output_type": "execute_result",
     "data": {
      "text/plain": "        Role Title  Cosine Distances  \\\n35  Data Scientist          0.433133   \n34  Data Scientist          0.498284   \n20  Data Scientist          0.589134   \n15    Data Analyst          0.649652   \n85  Data Scientist          0.679102   \n\n                                      Job Description  \n35     Data Scientist    Chicago, IL    Contract &amp;...  \n34     - Data Scientist / Data Engineer    - Chica...  \n20    Big Data Lead    Raritan- NJ    -12 months  ...  \n15    Data Analytics Consultant   Basking Ridge, N...  \n85  Data Scientist- Re to Saudi Arabia Saudi Aramc...  ",
      "text/html": "<div>\n<style scoped>\n    .dataframe tbody tr th:only-of-type {\n        vertical-align: middle;\n    }\n\n    .dataframe tbody tr th {\n        vertical-align: top;\n    }\n\n    .dataframe thead th {\n        text-align: right;\n    }\n</style>\n<table border=\"1\" class=\"dataframe\">\n  <thead>\n    <tr style=\"text-align: right;\">\n      <th></th>\n      <th>Role Title</th>\n      <th>Cosine Distances</th>\n      <th>Job Description</th>\n    </tr>\n  </thead>\n  <tbody>\n    <tr>\n      <th>35</th>\n      <td>Data Scientist</td>\n      <td>0.433133</td>\n      <td>Data Scientist    Chicago, IL    Contract &amp;...</td>\n    </tr>\n    <tr>\n      <th>34</th>\n      <td>Data Scientist</td>\n      <td>0.498284</td>\n      <td>- Data Scientist / Data Engineer    - Chica...</td>\n    </tr>\n    <tr>\n      <th>20</th>\n      <td>Data Scientist</td>\n      <td>0.589134</td>\n      <td>Big Data Lead    Raritan- NJ    -12 months  ...</td>\n    </tr>\n    <tr>\n      <th>15</th>\n      <td>Data Analyst</td>\n      <td>0.649652</td>\n      <td>Data Analytics Consultant   Basking Ridge, N...</td>\n    </tr>\n    <tr>\n      <th>85</th>\n      <td>Data Scientist</td>\n      <td>0.679102</td>\n      <td>Data Scientist- Re to Saudi Arabia Saudi Aramc...</td>\n    </tr>\n  </tbody>\n</table>\n</div>"
     },
     "metadata": {},
     "execution_count": 95
    }
   ],
   "source": [
    "role = df['role'].tolist()\n",
    "desc = df['description'].tolist()\n",
    "summary = pd.DataFrame({\n",
    "        'Role Title': role,\n",
    "        'Cosine Distances': cos_dist,\n",
    "        'Job Description': desc\n",
    "    })\n",
    "z = summary.sort_values(by ='Cosine Distances', ascending=True)\n",
    "z.head()"
   ]
  },
  {
   "cell_type": "code",
   "execution_count": 94,
   "metadata": {},
   "outputs": [
    {
     "output_type": "execute_result",
     "data": {
      "text/plain": "                              jobOrResumeDescription            role  \\\n0  : Artificial Intelligence / Machine Learning D...       Developer   \n1   : Data Scientist/Architect\\n: 6+ months + Hig...  Data Scientist   \n2   : Data Analyst\\n: Davidson, NC\\n: 04+ Months\\...    Data Analyst   \n3   : Big Data Architect or Data Scientist\\n: New...  Data Scientist   \n4  : Data Engineer\\n: Woonsocket, RI\\n: 6+ Months...   Data Engineer   \n\n                                         description  \n0    Artificial Intelligence / Machine Learning D...  \n1     Data Scientist/Architect   6+ months + High...  \n2     Data Analyst   Davidson, NC   04+ Months   ...  \n3     Big Data Architect or Data Scientist   New ...  \n4    Data Engineer   Woonsocket, RI   6+ Months  ...  ",
      "text/html": "<div>\n<style scoped>\n    .dataframe tbody tr th:only-of-type {\n        vertical-align: middle;\n    }\n\n    .dataframe tbody tr th {\n        vertical-align: top;\n    }\n\n    .dataframe thead th {\n        text-align: right;\n    }\n</style>\n<table border=\"1\" class=\"dataframe\">\n  <thead>\n    <tr style=\"text-align: right;\">\n      <th></th>\n      <th>jobOrResumeDescription</th>\n      <th>role</th>\n      <th>description</th>\n    </tr>\n  </thead>\n  <tbody>\n    <tr>\n      <th>0</th>\n      <td>: Artificial Intelligence / Machine Learning D...</td>\n      <td>Developer</td>\n      <td>Artificial Intelligence / Machine Learning D...</td>\n    </tr>\n    <tr>\n      <th>1</th>\n      <td>: Data Scientist/Architect\\n: 6+ months + Hig...</td>\n      <td>Data Scientist</td>\n      <td>Data Scientist/Architect   6+ months + High...</td>\n    </tr>\n    <tr>\n      <th>2</th>\n      <td>: Data Analyst\\n: Davidson, NC\\n: 04+ Months\\...</td>\n      <td>Data Analyst</td>\n      <td>Data Analyst   Davidson, NC   04+ Months   ...</td>\n    </tr>\n    <tr>\n      <th>3</th>\n      <td>: Big Data Architect or Data Scientist\\n: New...</td>\n      <td>Data Scientist</td>\n      <td>Big Data Architect or Data Scientist   New ...</td>\n    </tr>\n    <tr>\n      <th>4</th>\n      <td>: Data Engineer\\n: Woonsocket, RI\\n: 6+ Months...</td>\n      <td>Data Engineer</td>\n      <td>Data Engineer   Woonsocket, RI   6+ Months  ...</td>\n    </tr>\n  </tbody>\n</table>\n</div>"
     },
     "metadata": {},
     "execution_count": 94
    }
   ],
   "source": [
    "df.head()"
   ]
  },
  {
   "cell_type": "code",
   "execution_count": null,
   "metadata": {},
   "outputs": [],
   "source": []
  }
 ]
}