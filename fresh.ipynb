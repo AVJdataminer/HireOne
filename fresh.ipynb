{
 "cells": [
  {
   "cell_type": "code",
   "execution_count": 1,
   "metadata": {},
   "outputs": [],
   "source": [
    "# Imports\n",
    "import re\n",
    "import string\n",
    "from collections import Counter\n",
    "\n",
    "import pandas as pd\n",
    "import numpy as np\n",
    "from gensim.summarization import keywords\n",
    "import matplotlib.pyplot as plt"
   ]
  },
  {
   "cell_type": "code",
   "execution_count": null,
   "metadata": {},
   "outputs": [],
   "source": [
    "#install pdf reader module\n",
    "#! pip install pdfminer.six"
   ]
  },
  {
   "cell_type": "markdown",
   "metadata": {},
   "source": [
    "## load job descriptions data"
   ]
  },
  {
   "cell_type": "code",
   "execution_count": null,
   "metadata": {},
   "outputs": [],
   "source": [
    "df = pd.read_csv('https://raw.githubusercontent.com/AVJdataminer/HireOne/master/data/job_descriptions.csv', encoding = 'unicode_escape')\n",
    "df.head()"
   ]
  },
  {
   "cell_type": "code",
   "execution_count": null,
   "metadata": {},
   "outputs": [],
   "source": [
    "#clean text\n",
    "def clean_text(text):\n",
    "    text = text.replace('\\n', ' ')                # remove newline\n",
    "    text = text.replace(':', ' ')\n",
    "    return text\n",
    "df['description'] = df.apply(lambda x: clean_text(x['jobOrResumeDescription']), axis=1)"
   ]
  },
  {
   "cell_type": "code",
   "execution_count": null,
   "metadata": {},
   "outputs": [],
   "source": [
    "jd = df['description'].tolist()"
   ]
  },
  {
   "cell_type": "markdown",
   "metadata": {},
   "source": [
    "Build model to tag each job description as a seperate document."
   ]
  },
  {
   "cell_type": "code",
   "execution_count": null,
   "metadata": {},
   "outputs": [],
   "source": [
    "import gensim\n",
    "import gensim.downloader as api\n",
    "from gensim import models\n",
    "# Create the tagged document needed for Doc2Vec\n",
    "def create_tagged_document(list_of_list_of_words):\n",
    "    for i, list_of_words in enumerate(list_of_list_of_words):\n",
    "        yield gensim.models.doc2vec.TaggedDocument(list_of_words, [i])\n",
    "\n",
    "train_data = list(create_tagged_document(jd))"
   ]
  },
  {
   "cell_type": "markdown",
   "metadata": {},
   "source": [
    "Train the model on the job descriptions for matching later."
   ]
  },
  {
   "cell_type": "code",
   "execution_count": null,
   "metadata": {},
   "outputs": [],
   "source": [
    "# Init the Doc2Vec model\n",
    "model = gensim.models.doc2vec.Doc2Vec(vector_size=50, min_count=2, epochs=40)\n",
    "\n",
    "# Build the Volabulary\n",
    "model.build_vocab(train_data)\n",
    "\n",
    "# Train the Doc2Vec model\n",
    "model.train(train_data, total_examples=model.corpus_count, epochs=model.epochs)"
   ]
  },
  {
   "cell_type": "markdown",
   "metadata": {
    "colab_type": "text",
    "id": "_FBp0Z2fMmd-"
   },
   "source": [
    "Here we apply the model to each job description in the corpus."
   ]
  },
  {
   "cell_type": "code",
   "execution_count": null,
   "metadata": {
    "colab": {},
    "colab_type": "code",
    "id": "83wjxiCoMl46"
   },
   "outputs": [],
   "source": [
    "data = []\n",
    "for i in range(len(jd)):\n",
    "    data.append(model.docvecs[i])"
   ]
  },
  {
   "cell_type": "markdown",
   "metadata": {
    "colab_type": "text",
    "id": "9BeFuMMLJAB6"
   },
   "source": [
    "## Now let's load the text from our resume"
   ]
  },
  {
   "cell_type": "code",
   "execution_count": null,
   "metadata": {
    "colab": {
     "base_uri": "https://localhost:8080/",
     "height": 204
    },
    "colab_type": "code",
    "id": "-vD2ko0AKL-q",
    "outputId": "143fe088-77b0-4ddc-ffcd-27964375911b"
   },
   "outputs": [
    {
     "data": {
      "text/html": [
       "<div>\n",
       "<style scoped>\n",
       "    .dataframe tbody tr th:only-of-type {\n",
       "        vertical-align: middle;\n",
       "    }\n",
       "\n",
       "    .dataframe tbody tr th {\n",
       "        vertical-align: top;\n",
       "    }\n",
       "\n",
       "    .dataframe thead th {\n",
       "        text-align: right;\n",
       "    }\n",
       "</style>\n",
       "<table border=\"1\" class=\"dataframe\">\n",
       "  <thead>\n",
       "    <tr style=\"text-align: right;\">\n",
       "      <th></th>\n",
       "      <th>jobOrResumeDescription</th>\n",
       "      <th>role</th>\n",
       "      <th>sourceType</th>\n",
       "      <th>description</th>\n",
       "    </tr>\n",
       "  </thead>\n",
       "  <tbody>\n",
       "    <tr>\n",
       "      <th>0</th>\n",
       "      <td>Â  with around 5 years of experience in all p...</td>\n",
       "      <td>Data Scientist</td>\n",
       "      <td>resume</td>\n",
       "      <td>Â  with around 5 years of experience in all p...</td>\n",
       "    </tr>\n",
       "    <tr>\n",
       "      <th>1</th>\n",
       "      <td>\\n \\nData scientist with a strong math backgro...</td>\n",
       "      <td>Data Scientist</td>\n",
       "      <td>resume</td>\n",
       "      <td>Data scientist with a strong math backgroun...</td>\n",
       "    </tr>\n",
       "    <tr>\n",
       "      <th>2</th>\n",
       "      <td>\\n\\n\\n* Around 4+  years of experience in Data...</td>\n",
       "      <td>Data Scientist</td>\n",
       "      <td>resume</td>\n",
       "      <td>* Around 4+  years of experience in Data An...</td>\n",
       "    </tr>\n",
       "    <tr>\n",
       "      <th>3</th>\n",
       "      <td>\\n\\nExpert in logical and problem-solving  wit...</td>\n",
       "      <td>Data Scientist</td>\n",
       "      <td>resume</td>\n",
       "      <td>Expert in logical and problem-solving  with ...</td>\n",
       "    </tr>\n",
       "    <tr>\n",
       "      <th>4</th>\n",
       "      <td>Experienced  with 2+ years of hands-on experie...</td>\n",
       "      <td>Data Scientist</td>\n",
       "      <td>resume</td>\n",
       "      <td>Experienced  with 2+ years of hands-on experie...</td>\n",
       "    </tr>\n",
       "  </tbody>\n",
       "</table>\n",
       "</div>"
      ],
      "text/plain": [
       "                              jobOrResumeDescription  ...                                        description\n",
       "0  Â  with around 5 years of experience in all p...  ...  Â  with around 5 years of experience in all p...\n",
       "1  \\n \\nData scientist with a strong math backgro...  ...     Data scientist with a strong math backgroun...\n",
       "2  \\n\\n\\n* Around 4+  years of experience in Data...  ...     * Around 4+  years of experience in Data An...\n",
       "3  \\n\\nExpert in logical and problem-solving  wit...  ...    Expert in logical and problem-solving  with ...\n",
       "4  Experienced  with 2+ years of hands-on experie...  ...  Experienced  with 2+ years of hands-on experie...\n",
       "\n",
       "[5 rows x 4 columns]"
      ]
     },
     "execution_count": 10,
     "metadata": {
      "tags": []
     },
     "output_type": "execute_result"
    }
   ],
   "source": [
    "resume = pd.read_csv('https://raw.githubusercontent.com/AVJdataminer/HireOne/master/data/resumes.csv', encoding = 'unicode_escape')\n",
    "resume.head()"
   ]
  },
  {
   "cell_type": "markdown",
   "metadata": {
    "colab_type": "text",
    "id": "nzdqFARmLUW0"
   },
   "source": [
    "We only need one resume to start with so let's select the first one and split into words to push into our model."
   ]
  },
  {
   "cell_type": "code",
   "execution_count": null,
   "metadata": {
    "colab": {},
    "colab_type": "code",
    "id": "PeZUSh18P_Ye"
   },
   "outputs": [],
   "source": [
    "r1 = resume['description'].iloc[0]"
   ]
  },
  {
   "cell_type": "code",
   "execution_count": null,
   "metadata": {
    "colab": {},
    "colab_type": "code",
    "id": "blLQ9AqBLblu"
   },
   "outputs": [],
   "source": [
    "resume = resume['description'].iloc[0].split()"
   ]
  },
  {
   "cell_type": "markdown",
   "metadata": {
    "colab_type": "text",
    "id": "jXdIQ6qzMNxv"
   },
   "source": [
    "Review the resulting vector."
   ]
  },
  {
   "cell_type": "code",
   "execution_count": null,
   "metadata": {
    "colab": {
     "base_uri": "https://localhost:8080/",
     "height": 170
    },
    "colab_type": "code",
    "id": "r3ciaV5xMH-n",
    "outputId": "d314c6af-4fb6-4715-f0b3-b991e0b136a6"
   },
   "outputs": [
    {
     "name": "stdout",
     "output_type": "stream",
     "text": [
      "[-0.2703119   0.46140584  1.3335586   0.194047    0.3511251  -0.05135229\n",
      "  1.2376658   1.104154    0.6905708  -0.66995645  0.00775168  1.7607471\n",
      " -0.56709665  0.71579945  1.4739642  -0.98076457 -0.70780426  0.93041635\n",
      " -0.38668808  0.03639724 -0.569789    0.30209452  1.1538218  -0.1179663\n",
      " -0.64267266 -0.57093453  0.14116059 -0.3806373   0.542782   -0.4670417\n",
      " -0.9182177  -0.00489526  2.1500022  -0.5747738   0.09500379 -0.12688264\n",
      "  0.07573358  0.37014386 -1.56851     0.15511167 -0.06379291 -0.63691014\n",
      "  0.957231    1.1769577  -1.1278763   0.05250629  0.93851274  0.62922686\n",
      " -0.03870421 -0.44639188]\n"
     ]
    }
   ],
   "source": [
    "print(model.infer_vector(resume))"
   ]
  },
  {
   "cell_type": "code",
   "execution_count": null,
   "metadata": {
    "colab": {},
    "colab_type": "code",
    "id": "sdG-iOPhMTJF"
   },
   "outputs": [],
   "source": [
    "resume_vect = model.infer_vector(resume)"
   ]
  },
  {
   "cell_type": "markdown",
   "metadata": {
    "colab_type": "text",
    "id": "EYvrFWw9M4dh"
   },
   "source": [
    "## Compare our resume to the job descriptions using PCA"
   ]
  },
  {
   "cell_type": "code",
   "execution_count": null,
   "metadata": {
    "colab": {
     "base_uri": "https://localhost:8080/",
     "height": 294
    },
    "colab_type": "code",
    "id": "vY7SGrOwMbgB",
    "outputId": "50405b4c-ee60-48e2-db15-27d0d7ce4540"
   },
   "outputs": [
    {
     "data": {
      "image/png": "[encoded data removed]",
      "text/plain": [
       "<Figure size 432x288 with 1 Axes>"
      ]
     },
     "metadata": {
      "needs_background": "light",
      "tags": []
     },
     "output_type": "display_data"
    }
   ],
   "source": [
    "def plot_pca(data):\n",
    "    from sklearn.decomposition import PCA\n",
    "    pca = PCA(n_components=2) #, whiten=True\n",
    "    X = pca.fit_transform(data)\n",
    "    xs,ys =X[:,0], X[:,1]\n",
    "    plt.scatter(X[:,0], X[:,1])\n",
    "    plt.scatter(xs[-1], ys[-1], c='Red', marker='+')\n",
    "    plt.text(xs[-1], ys[-1],'resume')\n",
    "    plt.grid()\n",
    "    plt.suptitle('PCA')\n",
    "    #plt.savefig('distance_PCA_improved.png')\n",
    "    plt.show()\n",
    "plot_pca(data)"
   ]
  },
  {
   "cell_type": "markdown",
   "metadata": {
    "colab_type": "text",
    "id": "WyMDvR4-NG3d"
   },
   "source": [
    "## Calculate the cosine distances between our resume and each of the job descriptions"
   ]
  },
  {
   "cell_type": "code",
   "execution_count": null,
   "metadata": {
    "colab": {},
    "colab_type": "code",
    "id": "wZYbYjokM-KO"
   },
   "outputs": [],
   "source": [
    "from sklearn.metrics.pairwise import cosine_distances\n",
    "cos_dist =[]\n",
    "for i in range(len(data)):\n",
    "    cos_dist.append(float(cosine_distances(resume_vect[0:].reshape(1,-1),data[i].reshape(1,-1))))"
   ]
  },
  {
   "cell_type": "markdown",
   "metadata": {
    "colab_type": "text",
    "id": "mf_bGHdyNja6"
   },
   "source": [
    "create a key words list for each job description"
   ]
  },
  {
   "cell_type": "code",
   "execution_count": null,
   "metadata": {
    "colab": {},
    "colab_type": "code",
    "id": "BVYzteudNgqZ"
   },
   "outputs": [],
   "source": [
    "key_list =[]\n",
    "\n",
    "for j in jd:\n",
    "    key =''\n",
    "    for word in keywords(j).split('\\n'):\n",
    "        key += '{} '.format(word)\n",
    "    key_list.append(key)"
   ]
  },
  {
   "cell_type": "markdown",
   "metadata": {
    "colab_type": "text",
    "id": "whc0xp1xNa4y"
   },
   "source": [
    "Create a nice data frame to put the scores and keywords together. Print out the first 10 lowest scores. Those jobs will the most similar to the resume."
   ]
  },
  {
   "cell_type": "code",
   "execution_count": null,
   "metadata": {
    "colab": {
     "base_uri": "https://localhost:8080/",
     "height": 359
    },
    "colab_type": "code",
    "id": "HM85b1XbNW_o",
    "outputId": "4b0136da-7d70-474c-885d-0e5cece648ab"
   },
   "outputs": [
    {
     "data": {
      "text/html": [
       "<div>\n",
       "<style scoped>\n",
       "    .dataframe tbody tr th:only-of-type {\n",
       "        vertical-align: middle;\n",
       "    }\n",
       "\n",
       "    .dataframe tbody tr th {\n",
       "        vertical-align: top;\n",
       "    }\n",
       "\n",
       "    .dataframe thead th {\n",
       "        text-align: right;\n",
       "    }\n",
       "</style>\n",
       "<table border=\"1\" class=\"dataframe\">\n",
       "  <thead>\n",
       "    <tr style=\"text-align: right;\">\n",
       "      <th></th>\n",
       "      <th>Role Title</th>\n",
       "      <th>Cosine Distances</th>\n",
       "      <th>Keywords</th>\n",
       "      <th>Job Description</th>\n",
       "    </tr>\n",
       "  </thead>\n",
       "  <tbody>\n",
       "    <tr>\n",
       "      <th>34</th>\n",
       "      <td>Data Scientist</td>\n",
       "      <td>0.408452</td>\n",
       "      <td>knowledge engineer experience learning data th...</td>\n",
       "      <td>- Data Scientist / Data Engineer    - Chica...</td>\n",
       "    </tr>\n",
       "    <tr>\n",
       "      <th>35</th>\n",
       "      <td>Data Scientist</td>\n",
       "      <td>0.493039</td>\n",
       "      <td>knowledge experience learning scientist theano</td>\n",
       "      <td>Data Scientist    Chicago, IL    Contract &amp;...</td>\n",
       "    </tr>\n",
       "    <tr>\n",
       "      <th>20</th>\n",
       "      <td>Data Scientist</td>\n",
       "      <td>0.605699</td>\n",
       "      <td>experience data lead leading time bdm field di...</td>\n",
       "      <td>Big Data Lead    Raritan- NJ    -12 months  ...</td>\n",
       "    </tr>\n",
       "    <tr>\n",
       "      <th>30</th>\n",
       "      <td>Data Scientist</td>\n",
       "      <td>0.616657</td>\n",
       "      <td>experience experiments data models model model...</td>\n",
       "      <td>Data Scientist     Richardson, TX    Full T...</td>\n",
       "    </tr>\n",
       "    <tr>\n",
       "      <th>98</th>\n",
       "      <td>Data Engineer</td>\n",
       "      <td>0.632020</td>\n",
       "      <td>computational high computing numerical methods...</td>\n",
       "      <td>Applied Computational Mathematician / Engineer...</td>\n",
       "    </tr>\n",
       "    <tr>\n",
       "      <th>76</th>\n",
       "      <td>Data Analyst</td>\n",
       "      <td>0.661276</td>\n",
       "      <td>solutions like perform alternative solution pr...</td>\n",
       "      <td>Sr. Business Analyst UC Innovation - Irvine, C...</td>\n",
       "    </tr>\n",
       "    <tr>\n",
       "      <th>72</th>\n",
       "      <td>Data Analyst</td>\n",
       "      <td>0.680710</td>\n",
       "      <td>data experience including providing business m...</td>\n",
       "      <td>Senior Healthcare Data Analyst Advantmed98 re ...</td>\n",
       "    </tr>\n",
       "    <tr>\n",
       "      <th>24</th>\n",
       "      <td>Data Scientist</td>\n",
       "      <td>0.688905</td>\n",
       "      <td>experience data business solutions strong team...</td>\n",
       "      <td>-Lead BI    - Cheektowaga, NY   -Full Time ...</td>\n",
       "    </tr>\n",
       "    <tr>\n",
       "      <th>0</th>\n",
       "      <td>Developer</td>\n",
       "      <td>0.692190</td>\n",
       "      <td>years developer development developing sql ser...</td>\n",
       "      <td>Artificial Intelligence / Machine Learning D...</td>\n",
       "    </tr>\n",
       "    <tr>\n",
       "      <th>37</th>\n",
       "      <td>Data Engineer</td>\n",
       "      <td>0.719788</td>\n",
       "      <td>data processing process models good solutions ...</td>\n",
       "      <td>Big Data Architect DE, PA, NJ, NYC, MA s (50-6...</td>\n",
       "    </tr>\n",
       "  </tbody>\n",
       "</table>\n",
       "</div>"
      ],
      "text/plain": [
       "        Role Title  ...                                    Job Description\n",
       "34  Data Scientist  ...     - Data Scientist / Data Engineer    - Chica...\n",
       "35  Data Scientist  ...     Data Scientist    Chicago, IL    Contract &...\n",
       "20  Data Scientist  ...    Big Data Lead    Raritan- NJ    -12 months  ...\n",
       "30  Data Scientist  ...     Data Scientist     Richardson, TX    Full T...\n",
       "98   Data Engineer  ...  Applied Computational Mathematician / Engineer...\n",
       "76    Data Analyst  ...  Sr. Business Analyst UC Innovation - Irvine, C...\n",
       "72    Data Analyst  ...  Senior Healthcare Data Analyst Advantmed98 re ...\n",
       "24  Data Scientist  ...     -Lead BI    - Cheektowaga, NY   -Full Time ...\n",
       "0        Developer  ...    Artificial Intelligence / Machine Learning D...\n",
       "37   Data Engineer  ...  Big Data Architect DE, PA, NJ, NYC, MA s (50-6...\n",
       "\n",
       "[10 rows x 4 columns]"
      ]
     },
     "execution_count": 43,
     "metadata": {
      "tags": []
     },
     "output_type": "execute_result"
    }
   ],
   "source": [
    "role = df['role'].tolist()\n",
    "summary = pd.DataFrame({\n",
    "        'Role Title': role,\n",
    "        'Cosine Distances': cos_dist,\n",
    "        'Keywords': key_list,\n",
    "        'Job Description': jd\n",
    "    })\n",
    "z = summary.sort_values(by ='Cosine Distances', ascending=True)\n",
    "z.head(10)"
   ]
  },
  {
   "cell_type": "markdown",
   "metadata": {
    "colab_type": "text",
    "id": "6Y2zTt1XPpFE"
   },
   "source": [
    "Let's print the first job description and our resume text to visually compare."
   ]
  },
  {
   "cell_type": "code",
   "execution_count": null,
   "metadata": {
    "colab": {
     "base_uri": "https://localhost:8080/",
     "height": 86
    },
    "colab_type": "code",
    "id": "PGRBAfmPPnZl",
    "outputId": "6207ec44-3a5e-4414-ef5a-fbacf1de7f1d"
   },
   "outputs": [
    {
     "data": {
      "application/vnd.google.colaboratory.intrinsic": {
       "type": "string"
      },
      "text/plain": [
       "'   - Data Scientist / Data Engineer    - Chicago, IL    - Long Term  Exp Req  - 8+ Years        -      Senior data scientist / engineer      Financial Domain Knowledge & experience     Strong Experience in AI related      Knowledge & exposure in rendering ML functionality     Understanding  AI/Deep Learning algorithm such as CNN, RNN, LSTM     Experience in building AI based NLP and OCR solution using Keras, Google Tensorflow, Theano, Caffe 2 etc? '"
      ]
     },
     "execution_count": 51,
     "metadata": {
      "tags": []
     },
     "output_type": "execute_result"
    }
   ],
   "source": [
    "z['Job Description'].iloc[0]"
   ]
  },
  {
   "cell_type": "code",
   "execution_count": null,
   "metadata": {},
   "outputs": [],
   "source": []
  }
 ],
 "metadata": {
  "kernelspec": {
   "display_name": "Python 3.8.1 64-bit ('GPX_env': conda)",
   "language": "python",
   "name": "python38164bitgpxenvconda48ca4c503e2d40e68f7844ea8bc20df9"
  },
  "language_info": {
   "codemirror_mode": {
    "name": "ipython",
    "version": 3
   },
   "file_extension": ".py",
   "mimetype": "text/x-python",
   "name": "python",
   "nbconvert_exporter": "python",
   "pygments_lexer": "ipython3",
   "version": "3.8.1"
  }
 },
 "nbformat": 4,
 "nbformat_minor": 4
}
